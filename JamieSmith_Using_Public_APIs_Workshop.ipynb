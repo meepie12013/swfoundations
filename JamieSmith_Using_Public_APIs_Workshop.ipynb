{
  "nbformat": 4,
  "nbformat_minor": 0,
  "metadata": {
    "colab": {
      "name": "JamieSmith - Using Public APIs Workshop.ipynb",
      "provenance": [],
      "collapsed_sections": [],
      "toc_visible": true
    },
    "kernelspec": {
      "name": "python3",
      "display_name": "Python 3"
    }
  },
  "cells": [
    {
      "cell_type": "markdown",
      "metadata": {
        "id": "zRmzhJZE-e2l"
      },
      "source": [
        "## Some Additional Methods for Processing HTTP Requests\n",
        "\n",
        "- `requests.request(\"GET\", url, params=querystring)`\n",
        "\n",
        "- `response.json()`"
      ]
    },
    {
      "cell_type": "code",
      "metadata": {
        "id": "xOak4-hr9wpc"
      },
      "source": [
        "import requests\n",
        "\n",
        "# Simple interactive script querying an API\n",
        "\n",
        "url = \"http://www.omdbapi.com/\"\n",
        "\n",
        "title = input(\"Enter a movie title that you like: \")\n",
        "\n",
        "# Populate the query string with your OMDb apikey and title\n",
        "querystring = {\"apikey\":\"9b96d509\", \"t\":title}\n",
        "\n",
        "# Use the request method\n",
        "# Returns a requests.models.Request obj\n",
        "response = requests.request(\"GET\", url, params=querystring)\n",
        "print(type(response))\n",
        "print(response.headers)\n",
        "print(response.text)\n",
        "\n",
        "# Use the json method in the requests module to convert the json to a dict\n",
        "json_as_dict = response.json()\n",
        "print(type(json_as_dict))\n",
        "\n",
        "# Iterate over all key/value pairs in the dictionary and print them\n",
        "for key, value in json_as_dict.items():\n",
        "    print(key, ' : ', value)\n"
      ],
      "execution_count": null,
      "outputs": []
    },
    {
      "cell_type": "markdown",
      "metadata": {
        "id": "DqXqHnhb-LaF"
      },
      "source": [
        "# Using Public APIs Workshop\n"
      ]
    },
    {
      "cell_type": "markdown",
      "metadata": {
        "id": "Q9PF6ESLAnX_"
      },
      "source": [
        "## Warm-Up: Use `requests` module\n",
        "\n",
        "- `import requests`\n",
        "- Set a string variable `mywebsite` to your favorite website URL.\n",
        "- Pass `mywebsite` to `requests.get()`\n",
        "- Assign `requests.get()` to a variable called `response`\n",
        "- Display\n",
        " - `response.status_code`\n",
        " - `response.headers`\n",
        " - `response.text`"
      ]
    },
    {
      "cell_type": "code",
      "metadata": {
        "id": "KSZTzbkXiECT",
        "outputId": "796b82fc-eb6e-46d5-8fa8-cc0b13eae980",
        "colab": {
          "base_uri": "https://localhost:8080/",
          "height": 51
        }
      },
      "source": [
        "import requests\n",
        "# Simple interactive script querying an API\n",
        "url = \"http://www.omdbapi.com/\"\n",
        "title = input(\"Enter a movie title that you like: \")\n",
        "# Populate the query string with your OMDb apikey and title\n",
        "querystring = {\"apikey\":\"9b96d509\", \"t\":title}\n",
        "# Use the request method\n",
        "# Returns a requests.models.Request obj\n",
        "response = requests.request(\"GET\", url, params=querystring)\n",
        "json_as_dict = response.json()\n",
        "# print(type(json_as_dict))\n",
        "print(f'The year that {title} was released is {json_as_dict[\"Year\"]}')\n",
        "#print(type(response))\n",
        "#print(response.headers)\n",
        "#print(response.text)\n",
        "# Use the json method in the requests module to convert the json to a dict\n",
        "# Iterate over all key/value pairs in the dictionary and print them\n",
        "#for key, value in json_as_dict.items():\n",
        "#    print(key, ' : ', value)\n"
      ],
      "execution_count": null,
      "outputs": [
        {
          "output_type": "stream",
          "text": [
            "Enter a movie title that you like: Inception\n",
            "The year that Inception was released is 2010\n"
          ],
          "name": "stdout"
        }
      ]
    },
    {
      "cell_type": "markdown",
      "metadata": {
        "id": "SKDc3G1E_Zde"
      },
      "source": [
        "## Warm-Up:  Use `requests.json()`\n",
        "- Run the code below. Observe the output.\n",
        " - What is the purpose of _Line 11_?  The comment tells you.\n",
        "- Modify the code:\n",
        " - Comment out _Lines 7 and 11_.\n",
        " - Replace _Line 7_ with: `pydata = response.json()`\n",
        " - Replace all instances of `jsondata` with `pydata`\n",
        " - Observe what is printed for `type(pydata)`.\n",
        " - What's your conclusion regarding  `response.text` versus `response.json()`?"
      ]
    },
    {
      "cell_type": "code",
      "metadata": {
        "id": "Z9tr3BiOBs0E"
      },
      "source": [
        "import requests\n",
        "import json\n",
        "\n",
        "myURL = \"https://api.exchangeratesapi.io/latest?base=USD\"\n",
        "\n",
        "response = requests.get(myURL)\n",
        "pydata = response.text\n",
        "print(f\"pydata is type: {type(pydata)}\")\n",
        "\n",
        "# Use json.loads() to convert from a string to a dictionary\n",
        "jsondata = json.loads(pydata)\n",
        "\n",
        "print(f\"The keys in this JSON: \", jsondata.keys())\n",
        "\n",
        "# Print out the values of those keys.\n",
        "print(f\"The rates value: \\n{jsondata['rates']}\")\n",
        "print(f\"The base value: {jsondata['base']}\")\n",
        "print(f\"The date value: {jsondata['date']}\")"
      ],
      "execution_count": null,
      "outputs": []
    },
    {
      "cell_type": "markdown",
      "metadata": {
        "id": "iXGe19A4GQC2"
      },
      "source": [
        "SOLUTION"
      ]
    },
    {
      "cell_type": "markdown",
      "metadata": {
        "id": "LVu4kouE-Zfa"
      },
      "source": [
        "## Exercise:  Modify the exchange rate code below to utilize API data.\n",
        "\n",
        "- First make a copy of all the code in the cell below.  You'll modify this.\n",
        "- `import requests`\n",
        "- `import json`\n",
        "- Add the API endpoint to a string variable name of your choice:  \n",
        " - `https://api.exchangeratesapi.io/latest?base=USD`\n",
        "- Invoke `requests.get(???)`. What argument do you pass to it?\n",
        "- Call `response.json()`.  Assign that function call to a variable named `exchange_rate_data`\n",
        "- Print out the `keys()` of this dictionary.\n",
        "- Delete the `exchange_rates` dictionary (original lines 16-23)\n",
        "- Now assign that same variable `exchange_rates` the value of the `\"rates\"` key in `exchange_rate_data`.\n",
        "- Run the resulting program."
      ]
    },
    {
      "cell_type": "code",
      "metadata": {
        "id": "hxLMDDarbC7s",
        "outputId": "fb8abfc9-78bf-415c-e051-8a1b491c57f9",
        "colab": {
          "base_uri": "https://localhost:8080/",
          "height": 289
        }
      },
      "source": [
        "import requests\n",
        "import json\n",
        "\n",
        "#Add the API endpoint to a string variable name of your choice\n",
        "myURL = \"https://api.exchangeratesapi.io/latest?base=USD\"\n",
        "\n",
        "#Call response.json(). Assign that function call to a variable\n",
        "response = requests.get(myURL)\n",
        "exchange_rate_data = response.json()\n",
        "\n",
        "#Print out the keys() of this dictionary.\n",
        "for key, value in exchange_rate_data.items():\n",
        "  print(key)\n",
        "\n",
        "#Delete the exchange_rates dictionary (original lines 16-23)\n",
        "#Now assign that same variable exchange_rates the value of the \"rates\" key in exchange_rate_data.\n",
        "\n",
        "\n",
        "exchange_rates = exchange_rate_data[\"rates\"]\n",
        "\n",
        "## Put your modified code above this line ##\n",
        "############################################\n",
        "\n",
        "print(\n",
        "'''\n",
        "  Currency Options:\n",
        "  1. USD\n",
        "  2. EUR\n",
        "  3. GBP\n",
        "  4. INR\n",
        "  5. AUD\n",
        "  6. MXN\n",
        "'''\n",
        ")\n",
        "\n",
        "\n",
        "# Get user input for currencies and amount.\n",
        "originalCurrency = input(\"Enter the 3-letter currency to convert FROM: \")\n",
        "targetCurrency = input(\"Enter the 3-letter currency to convert TO: \")\n",
        "amount = float(input(f\"How much in {originalCurrency} do you want to convert? \"))\n",
        "\n",
        "usd_amount = amount / exchange_rates[originalCurrency]\n",
        "curr1_to_curr2_amount = usd_amount * exchange_rates[targetCurrency]\n",
        "print(f\"{amount} {originalCurrency} equals {round(curr1_to_curr2_amount, 2)} {targetCurrency}\")\n"
      ],
      "execution_count": null,
      "outputs": [
        {
          "output_type": "stream",
          "text": [
            "rates\n",
            "base\n",
            "date\n",
            "\n",
            "  Currency Options:\n",
            "  1. USD\n",
            "  2. EUR\n",
            "  3. GBP\n",
            "  4. INR\n",
            "  5. AUD\n",
            "  6. MXN\n",
            "\n",
            "Enter the 3-letter currency to convert FROM: USD\n",
            "Enter the 3-letter currency to convert TO: EUR\n",
            "How much in USD do you want to convert? 42\n",
            "42.0 USD equals 35.87 EUR\n"
          ],
          "name": "stdout"
        }
      ]
    },
    {
      "cell_type": "markdown",
      "metadata": {
        "id": "zurwjeYYLt7Y"
      },
      "source": [
        "## Invoke the QUOTE API Endpoint using Finnhub.io\n",
        "\n",
        "- Review this page: [Finnhub Quote API](https://finnhub.io/docs/api#quote)\n",
        "- Put this URL into your browser: `https://finnhub.io/api/v1/quote?symbol=AAPL&token=bsi9rj7rh5rd8hs19oag`\n",
        "- We will build the URL in stages:\n",
        " -  Because we're using the Finnhub QUOTE API endpoint, assign this _string_ to a variable named `stockQuoteUrl`: `https://finnhub.io/api/v1/quote?`.\n",
        " - Let's build the `query string dictionary`, which is the remainder of the URL in the example above.\n",
        "   - We already have a string variable called `token`.  Look closely at the string value.\n",
        "   - Pick any ticker symbol of your choice (eg. AAPL, GOOG, MSFT, NFLX, AMZN, etc.).  Create a string variable called `tickerString` and assign a ticker symbol to that string variable.  \n",
        "   - Create a dictionary variable called `queryString` and add these two keys **and their associated values** to that dictionary:  `symbol` and `token`. Remind yourself of why you're doing this by looking at the full API endpoing request in the beginning of the exercise.\n",
        "- Use `requests.request(\"GET\", url, params)` to request the data from `stockQuoteUrl`.\n",
        "- Print the result of the HTTP response body by using `response.json()`\n",
        "- Run your code.  It should show the same thing that your browser showed in step #1. \n"
      ]
    },
    {
      "cell_type": "code",
      "metadata": {
        "id": "0AfLC5oTMqUo",
        "outputId": "38540e08-150a-42d8-e2ee-5a5eea79b501",
        "colab": {
          "base_uri": "https://localhost:8080/",
          "height": 85
        }
      },
      "source": [
        "import requests\n",
        "import json\n",
        "\n",
        "# Finnhub API key is called \"token\"\n",
        "# If you signed up at Finnhub, use your own token. Otherwise, use the one below.\n",
        "token =\"bsi9rj7rh5rd8hs19oag\"\n",
        "stockQuoteUrl = \"https://finnhub.io/api/v1/quote?\"\n",
        "\n",
        "#Create a string variable called tickerString and assign a ticker symbol to that string variable\n",
        "tickerString = \"NVDA\"\n",
        "\n",
        "#Create a dictionary variable called queryString and add these two keys\n",
        "# and their associated values to that dictionary: symbol and token\n",
        "queryString = {\n",
        "    \"symbol\": tickerString,\n",
        "    \"token\": token\n",
        "}\n",
        "\n",
        "response = requests.request(\"GET\", stockQuoteUrl, params=queryString)\n",
        "httpResponse = response.json()\n",
        "\n",
        "print(f'This is the URL that we are requesting data from:\\n {stockQuoteUrl}')\n",
        "print()\n",
        "print(httpResponse)\n"
      ],
      "execution_count": null,
      "outputs": [
        {
          "output_type": "stream",
          "text": [
            "This is the URL that we are requesting data from:\n",
            " https://finnhub.io/api/v1/quote?\n",
            "\n",
            "{'c': 541.22, 'h': 544.9, 'l': 526.01, 'o': 526.3, 'pc': 529.03, 't': 1601509767}\n"
          ],
          "name": "stdout"
        }
      ]
    },
    {
      "cell_type": "markdown",
      "metadata": {
        "id": "_Xqj1kabVutT"
      },
      "source": [
        "# Build a Stock Portfolio CSV file using Finnhub.io\n",
        "### Make API calls for a list of Stock Ticker Symbols\n",
        "\n",
        "- Copy your code from above into the Code Cell below.\n",
        "- Choose some stock ticker symbols and create a list of strings called `portfolio`.  This list will be a list of ticker symbol strings.\n",
        "- Create a `for` loop that will walk through the `portfolio` list\n",
        " - **Be sure that all the code BELOW the `token` is in the scope of this `for` loop.**\n",
        " - Now you need to modify this line: `tickerString = \"AAPL\"` to use ALL the symbols in your list.  What should this line be now? \n",
        "- Run the resulting code. Do you get the JSON values of all ticker symbols?\n",
        "\n",
        "### Build the list of Stock Quotes\n",
        "- Before the `for` loop initialize a variable called `stockList = []`.\n",
        "- Modify the `for` loop\n",
        " - Comment out `print(response.json())`\n",
        " - Assign `response.json()` to a new variable called `stockQuote`.  What is the datatype of `stockQuote`?\n",
        " - Add a **key** called `ticker` to the `stockQuote` dictionary.  What value should you assign to this?\n",
        " - Now `append` the `stockQuote` dictionary to `stockList`.\n",
        " - Done the `for` loop.\n",
        "- Use a normal `for` loop to print out the `stockList`.  Does is look right?\n",
        "\n",
        "### Build the CSV\n",
        "- Include a `print` statement indicating that you are creating the stock portfolio CSV file.\n",
        "- Use `csv.DictWriter` to create your CSV file.  Use this code:\n",
        "```\n",
        "fields = [\"ticker\", \"c\", \"h\", \"l\", \"o\", \"pc\", \"t\"]\n",
        "with open('stock_portfolio.csv', mode='w') as csvfile:\n",
        "    csvwriter = csv.DictWriter(csvfile, fieldnames=fields)\n",
        "    csvwriter.writeheader()\n",
        "    for s in stockList:\n",
        "        csvwriter.writerow(s)\n",
        "```"
      ]
    },
    {
      "cell_type": "code",
      "metadata": {
        "id": "WPHLTAkFbC62",
        "outputId": "7eef10b3-9cbf-4301-e32d-54a94673527f",
        "colab": {
          "base_uri": "https://localhost:8080/",
          "height": 292
        }
      },
      "source": [
        "import requests\n",
        "import json\n",
        "import csv\n",
        "\n",
        "# Finnhub API key is called \"token\"\n",
        "# If you signed up at Finnhub, use your own token. Otherwise, use the one below.\n",
        "token =\"bsi9rj7rh5rd8hs19oag\"\n",
        "stockQuoteUrl = \"https://finnhub.io/api/v1/quote?\"\n",
        "\n",
        "#Create a string variable called tickerString and assign a ticker symbol to that string variable\n",
        "#tickerString = \"NVDA\"\n",
        "\n",
        "#Choose some stock ticker symbols and create a list of strings called portfolio.\n",
        "portfolio = [\"NVDA\", \"AMZN\", \"JLL\"]\n",
        "\n",
        "#Create a dictionary variable called queryString and add these two keys\n",
        "# and their associated values to that dictionary: symbol and token\n",
        "queryString = {\n",
        "    \"symbol\": 0,\n",
        "    \"token\": token\n",
        "}\n",
        "\n",
        "#Before the for loop initialize a variable called stockList = [].\n",
        "stockList = []\n",
        "\n",
        "#Create a for loop that will walk through the portfolio list\n",
        "#Be sure that all the code BELOW the token is in the scope of this for loop.\n",
        "#Now you need to modify this line: tickerString = \"AAPL\" to use ALL the symbols in your list. What should this line be now?\n",
        "#Run the resulting code. Do you get the JSON values of all ticker symbols?\n",
        "\n",
        "for n in portfolio:\n",
        "  queryString[\"symbol\"] = n\n",
        "  response = requests.request(\"GET\", stockQuoteUrl, params=queryString)\n",
        "  stockQuote = response.json()\n",
        "  print(n)\n",
        "  print(stockQuote)\n",
        "  #Modify the for loop\n",
        "  #Add a key called ticker to the stockQuote dictionary. What value should you assign to this?\n",
        "  stockQuote[\"ticker\"] = n\n",
        "  #Now append the stockQuote dictionary to stockList.\n",
        "  stockList.append(stockQuote)\n",
        "\n",
        "print()\n",
        "#Use a normal for loop to print out the stockList. Does is look right?\n",
        "for n in stockList:\n",
        "  print(n)\n",
        "\n",
        "print()\n",
        "print(\"------------------------------------------------\")\n",
        "print()\n",
        "\n",
        "print(\"Creating the CSV file...\")\n",
        "\n",
        "fields = [\"ticker\", \"c\", \"h\", \"l\", \"o\", \"pc\", \"t\"]\n",
        "with open('stock_portfolio.csv', mode='w') as csvfile:\n",
        "  csvwriter = csv.DictWriter(csvfile, fieldnames=fields)\n",
        "  csvwriter.writeheader()\n",
        "  for s in stockList:\n",
        "      csvwriter.writerow(s)\n",
        "\n",
        "print(\"Complete!\")"
      ],
      "execution_count": null,
      "outputs": [
        {
          "output_type": "stream",
          "text": [
            "NVDA\n",
            "{'c': 541.22, 'h': 544.9, 'l': 526.01, 'o': 526.3, 'pc': 529.03, 't': 1601510995}\n",
            "AMZN\n",
            "{'c': 3148.73, 'h': 3212.88, 'l': 3133.99, 'o': 3141.14, 'pc': 3144.88, 't': 1601510995}\n",
            "JLL\n",
            "{'c': 95.66, 'h': 98.42, 'l': 94.92, 'o': 97.09, 'pc': 96.12, 't': 1601510995}\n",
            "\n",
            "{'c': 541.22, 'h': 544.9, 'l': 526.01, 'o': 526.3, 'pc': 529.03, 't': 1601510995, 'ticker': 'NVDA'}\n",
            "{'c': 3148.73, 'h': 3212.88, 'l': 3133.99, 'o': 3141.14, 'pc': 3144.88, 't': 1601510995, 'ticker': 'AMZN'}\n",
            "{'c': 95.66, 'h': 98.42, 'l': 94.92, 'o': 97.09, 'pc': 96.12, 't': 1601510995, 'ticker': 'JLL'}\n",
            "\n",
            "------------------------------------------------\n",
            "\n",
            "Creating the CSV file...\n",
            "Complete!\n"
          ],
          "name": "stdout"
        }
      ]
    }
  ]
}